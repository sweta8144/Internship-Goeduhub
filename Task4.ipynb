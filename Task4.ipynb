{
  "nbformat": 4,
  "nbformat_minor": 0,
  "metadata": {
    "colab": {
      "name": "Task4.ipynb",
      "provenance": [],
      "authorship_tag": "ABX9TyNJA6OaeBQ+heRcfM22jTB7",
      "include_colab_link": true
    },
    "kernelspec": {
      "name": "python3",
      "display_name": "Python 3"
    },
    "language_info": {
      "name": "python"
    }
  },
  "cells": [
    {
      "cell_type": "markdown",
      "metadata": {
        "id": "view-in-github",
        "colab_type": "text"
      },
      "source": [
        "<a href=\"https://colab.research.google.com/github/sweta8144/Internship-Goeduhub/blob/main/Task4.ipynb\" target=\"_parent\"><img src=\"https://colab.research.google.com/assets/colab-badge.svg\" alt=\"Open In Colab\"/></a>"
      ]
    },
    {
      "cell_type": "markdown",
      "metadata": {
        "id": "ITmUeQI9boPG"
      },
      "source": [
        "\n",
        "**Task 4**\n",
        "\n",
        "**Name - SWETA LENKA**\n",
        "\n",
        "**Reg no. - 11510**\n",
        "\n",
        "**Q1. Import the numpy package under the name np and Print the numpy version and the configuration.**"
      ]
    },
    {
      "cell_type": "code",
      "metadata": {
        "colab": {
          "base_uri": "https://localhost:8080/",
          "height": 0
        },
        "id": "dIL8AfXlb9Ks",
        "outputId": "b80dd1cd-c45c-47db-8d1a-c8f69d1c1adb"
      },
      "source": [
        "import numpy as np\n",
        "print(np.__version__)\n",
        "print(np.show_config())"
      ],
      "execution_count": 1,
      "outputs": [
        {
          "output_type": "stream",
          "text": [
            "1.19.5\n",
            "blas_mkl_info:\n",
            "  NOT AVAILABLE\n",
            "blis_info:\n",
            "  NOT AVAILABLE\n",
            "openblas_info:\n",
            "    libraries = ['openblas', 'openblas']\n",
            "    library_dirs = ['/usr/local/lib']\n",
            "    language = c\n",
            "    define_macros = [('HAVE_CBLAS', None)]\n",
            "blas_opt_info:\n",
            "    libraries = ['openblas', 'openblas']\n",
            "    library_dirs = ['/usr/local/lib']\n",
            "    language = c\n",
            "    define_macros = [('HAVE_CBLAS', None)]\n",
            "lapack_mkl_info:\n",
            "  NOT AVAILABLE\n",
            "openblas_lapack_info:\n",
            "    libraries = ['openblas', 'openblas']\n",
            "    library_dirs = ['/usr/local/lib']\n",
            "    language = c\n",
            "    define_macros = [('HAVE_CBLAS', None)]\n",
            "lapack_opt_info:\n",
            "    libraries = ['openblas', 'openblas']\n",
            "    library_dirs = ['/usr/local/lib']\n",
            "    language = c\n",
            "    define_macros = [('HAVE_CBLAS', None)]\n",
            "None\n"
          ],
          "name": "stdout"
        }
      ]
    },
    {
      "cell_type": "markdown",
      "metadata": {
        "id": "jk3eq-d5cHwW"
      },
      "source": [
        "**Q2. Create a null vector of size 10**"
      ]
    },
    {
      "cell_type": "code",
      "metadata": {
        "colab": {
          "base_uri": "https://localhost:8080/",
          "height": 0
        },
        "id": "5i2n3a3ocLfu",
        "outputId": "076d63a0-5d60-4c08-987d-037efe308705"
      },
      "source": [
        "x = np.zeros(10)\n",
        "print(x)"
      ],
      "execution_count": 2,
      "outputs": [
        {
          "output_type": "stream",
          "text": [
            "[0. 0. 0. 0. 0. 0. 0. 0. 0. 0.]\n"
          ],
          "name": "stdout"
        }
      ]
    },
    {
      "cell_type": "markdown",
      "metadata": {
        "id": "GqcRMH1RcTvJ"
      },
      "source": [
        "\n",
        "**Q3. Create Simple 1-D array and check type and check data types in array**"
      ]
    },
    {
      "cell_type": "code",
      "metadata": {
        "colab": {
          "base_uri": "https://localhost:8080/",
          "height": 0
        },
        "id": "E-n80lWNcWq_",
        "outputId": "eb95b78a-6caa-45f9-935a-47e79428926f"
      },
      "source": [
        "a = np.array([10,20,30])\n",
        "print(a)\n",
        "print(a.dtype)"
      ],
      "execution_count": 4,
      "outputs": [
        {
          "output_type": "stream",
          "text": [
            "[10 20 30]\n",
            "int64\n"
          ],
          "name": "stdout"
        }
      ]
    },
    {
      "cell_type": "markdown",
      "metadata": {
        "id": "zjYCHpZXceqH"
      },
      "source": [
        "**Q4. How to find number of dimensions, bytes per element and bytes of memory used?**"
      ]
    },
    {
      "cell_type": "code",
      "metadata": {
        "colab": {
          "base_uri": "https://localhost:8080/",
          "height": 0
        },
        "id": "T06kEJfecqiJ",
        "outputId": "27d081cd-2e6e-4fc6-aac4-4a77cb10089d"
      },
      "source": [
        "import sys\n",
        "y = np.array([1,2,3,4,5,6])\n",
        "print('Dimension of array is: ',y.size)\n",
        "print('Bytes per element is: ',y.itemsize)\n",
        "print('Bytes of memory used: ',y.nbytes)"
      ],
      "execution_count": 6,
      "outputs": [
        {
          "output_type": "stream",
          "text": [
            "Dimension of array is:  6\n",
            "Bytes per element is:  8\n",
            "Bytes of memory used:  48\n"
          ],
          "name": "stdout"
        }
      ]
    },
    {
      "cell_type": "markdown",
      "metadata": {
        "id": "gmBvTidQcvGH"
      },
      "source": [
        "**Q5. Create a null vector of size 10 but the fifth value which is 1**"
      ]
    },
    {
      "cell_type": "code",
      "metadata": {
        "colab": {
          "base_uri": "https://localhost:8080/",
          "height": 0
        },
        "id": "mOQQmzTicyX9",
        "outputId": "66343a0a-f8de-41ef-a7d4-0f98560ad9b9"
      },
      "source": [
        "x = np.zeros(10)\n",
        "print(x)\n",
        "print('Update fifth value to 1')\n",
        "x[5]=1\n",
        "print(x)"
      ],
      "execution_count": 7,
      "outputs": [
        {
          "output_type": "stream",
          "text": [
            "[0. 0. 0. 0. 0. 0. 0. 0. 0. 0.]\n",
            "Update fifth value to 1\n",
            "[0. 0. 0. 0. 0. 1. 0. 0. 0. 0.]\n"
          ],
          "name": "stdout"
        }
      ]
    },
    {
      "cell_type": "markdown",
      "metadata": {
        "id": "0xIkNG24c596"
      },
      "source": [
        "\n",
        "Q6. Create a vector with values ranging from 10 to 49"
      ]
    },
    {
      "cell_type": "code",
      "metadata": {
        "colab": {
          "base_uri": "https://localhost:8080/",
          "height": 0
        },
        "id": "na1WgOvoc856",
        "outputId": "4e1f8340-1f47-4804-8f94-35c5ddd7ff10"
      },
      "source": [
        "z = np.arange(10,49)\n",
        "print(z)"
      ],
      "execution_count": 8,
      "outputs": [
        {
          "output_type": "stream",
          "text": [
            "[10 11 12 13 14 15 16 17 18 19 20 21 22 23 24 25 26 27 28 29 30 31 32 33\n",
            " 34 35 36 37 38 39 40 41 42 43 44 45 46 47 48]\n"
          ],
          "name": "stdout"
        }
      ]
    },
    {
      "cell_type": "markdown",
      "metadata": {
        "id": "3SWYoCygdBEr"
      },
      "source": [
        "\n",
        "Q7. Reverse a vector (first element becomes last)"
      ]
    },
    {
      "cell_type": "code",
      "metadata": {
        "colab": {
          "base_uri": "https://localhost:8080/",
          "height": 0
        },
        "id": "7jZgx0ZbdEK6",
        "outputId": "f7bf68ad-9ab5-4059-84b3-c86fb4deeef1"
      },
      "source": [
        "m = np.arange(0,10)\n",
        "print('Original vector: ',m)\n",
        "m = m[::-1]\n",
        "print('Reverse vector: ',m)"
      ],
      "execution_count": 9,
      "outputs": [
        {
          "output_type": "stream",
          "text": [
            "Original vector:  [0 1 2 3 4 5 6 7 8 9]\n",
            "Reverse vector:  [9 8 7 6 5 4 3 2 1 0]\n"
          ],
          "name": "stdout"
        }
      ]
    },
    {
      "cell_type": "markdown",
      "metadata": {
        "id": "fRS-nnTydFzs"
      },
      "source": [
        "\n",
        "Q8. Create a 3x3 matrix with values ranging from 0 to 8"
      ]
    },
    {
      "cell_type": "code",
      "metadata": {
        "colab": {
          "base_uri": "https://localhost:8080/",
          "height": 0
        },
        "id": "5oCmEq33dIjR",
        "outputId": "cb6e98fc-5e6c-4fdf-f0cd-ce1690f5c3c0"
      },
      "source": [
        "t = np.arange(0,9).reshape(3,3)\n",
        "print(t)"
      ],
      "execution_count": 10,
      "outputs": [
        {
          "output_type": "stream",
          "text": [
            "[[0 1 2]\n",
            " [3 4 5]\n",
            " [6 7 8]]\n"
          ],
          "name": "stdout"
        }
      ]
    },
    {
      "cell_type": "markdown",
      "metadata": {
        "id": "ezSVy4uBdLvj"
      },
      "source": [
        "\n",
        "Q9. Find indices of non-zero elements from [1,2,0,0,4,0]"
      ]
    },
    {
      "cell_type": "code",
      "metadata": {
        "colab": {
          "base_uri": "https://localhost:8080/",
          "height": 0
        },
        "id": "jem3UlDJdO9Y",
        "outputId": "6440afc6-e0fd-4d9d-e3ea-ebfff85315d3"
      },
      "source": [
        "n = [1,2,0,0,4,0]\n",
        "print('Indices of non-zero elements are: ',np.nonzero(n))"
      ],
      "execution_count": 11,
      "outputs": [
        {
          "output_type": "stream",
          "text": [
            "Indices of non-zero elements are:  (array([0, 1, 4]),)\n"
          ],
          "name": "stdout"
        }
      ]
    },
    {
      "cell_type": "markdown",
      "metadata": {
        "id": "bXiW4w-TdS3q"
      },
      "source": [
        "Q10. Create a 3x3 identity matrix"
      ]
    },
    {
      "cell_type": "code",
      "metadata": {
        "colab": {
          "base_uri": "https://localhost:8080/",
          "height": 0
        },
        "id": "M5jWs4YYdX7R",
        "outputId": "9e4092e3-abac-4a20-fef3-121bea26a6f3"
      },
      "source": [
        "i = np.identity(3)\n",
        "print(i)"
      ],
      "execution_count": 12,
      "outputs": [
        {
          "output_type": "stream",
          "text": [
            "[[1. 0. 0.]\n",
            " [0. 1. 0.]\n",
            " [0. 0. 1.]]\n"
          ],
          "name": "stdout"
        }
      ]
    },
    {
      "cell_type": "markdown",
      "metadata": {
        "id": "6cqbCIsAdbLJ"
      },
      "source": [
        "\n",
        "Q11. Create a 3x3x3 array with random values"
      ]
    },
    {
      "cell_type": "code",
      "metadata": {
        "colab": {
          "base_uri": "https://localhost:8080/",
          "height": 0
        },
        "id": "HgpnhXvIdebj",
        "outputId": "464bb6ae-5de2-4007-9395-0ca03289f7f1"
      },
      "source": [
        "x = np.random.random((3,3,3))\n",
        "print(x)"
      ],
      "execution_count": 13,
      "outputs": [
        {
          "output_type": "stream",
          "text": [
            "[[[0.42592558 0.99135694 0.21211627]\n",
            "  [0.47273145 0.41426733 0.79065908]\n",
            "  [0.28976247 0.20771603 0.85301817]]\n",
            "\n",
            " [[0.29589852 0.48210426 0.41188028]\n",
            "  [0.34967449 0.10771716 0.34322182]\n",
            "  [0.17987294 0.36774183 0.16330259]]\n",
            "\n",
            " [[0.28957526 0.47512728 0.7889848 ]\n",
            "  [0.61898656 0.78139851 0.39492889]\n",
            "  [0.37769554 0.52866687 0.07530087]]]\n"
          ],
          "name": "stdout"
        }
      ]
    },
    {
      "cell_type": "markdown",
      "metadata": {
        "id": "R3AqUH0BdjyM"
      },
      "source": [
        "\n",
        "Q12. Create a 10x10 array with random values and find the minimum and maximum values"
      ]
    },
    {
      "cell_type": "code",
      "metadata": {
        "colab": {
          "base_uri": "https://localhost:8080/",
          "height": 0
        },
        "id": "s_3DRWlLdmsA",
        "outputId": "bca76f27-cc09-4b78-826c-b6d4a6d54ab0"
      },
      "source": [
        "x = np.random.random((10,10))\n",
        "print(x)\n",
        "print('Minimum value of the array is: ',x.min())\n",
        "print('Maximum value of the array is: ',x.max())"
      ],
      "execution_count": 14,
      "outputs": [
        {
          "output_type": "stream",
          "text": [
            "[[0.7139564  0.01819641 0.02605994 0.11624972 0.6061734  0.25343529\n",
            "  0.93546257 0.45963406 0.66523986 0.4816094 ]\n",
            " [0.48050375 0.14663518 0.15223369 0.52706728 0.76653846 0.53647953\n",
            "  0.18315412 0.44742334 0.51680498 0.6471163 ]\n",
            " [0.90534961 0.60346658 0.13884921 0.20924708 0.69840802 0.82293158\n",
            "  0.37414301 0.61502932 0.34766638 0.30907747]\n",
            " [0.06521934 0.46587146 0.72069645 0.90403225 0.69541518 0.68902388\n",
            "  0.81620391 0.71273964 0.52042586 0.16801039]\n",
            " [0.86794575 0.66816865 0.27406947 0.93798783 0.18953343 0.55553133\n",
            "  0.52884303 0.72562355 0.11301179 0.14506842]\n",
            " [0.59864076 0.03090145 0.37215623 0.85740076 0.1133404  0.44557674\n",
            "  0.84329566 0.71399577 0.85794905 0.03758267]\n",
            " [0.8666582  0.72265131 0.4494002  0.1986315  0.51905436 0.07195201\n",
            "  0.88257728 0.20812774 0.77388342 0.0839455 ]\n",
            " [0.52836861 0.51738605 0.68641673 0.95264657 0.46949438 0.22042373\n",
            "  0.26885011 0.24470587 0.68581689 0.38450622]\n",
            " [0.77451149 0.99198044 0.94308228 0.14158028 0.99855736 0.07690328\n",
            "  0.44407139 0.38380571 0.27749603 0.21369828]\n",
            " [0.10520532 0.80181148 0.67690288 0.55446361 0.80498302 0.97876433\n",
            "  0.38585192 0.14073494 0.1001101  0.53956668]]\n",
            "Minimum value of the array is:  0.018196411845725846\n",
            "Maximum value of the array is:  0.9985573591187894\n"
          ],
          "name": "stdout"
        }
      ]
    },
    {
      "cell_type": "markdown",
      "metadata": {
        "id": "5TQ8_Y6_dp-A"
      },
      "source": [
        "\n",
        "Q13. Create a random vector of size 30 and find the mean value"
      ]
    },
    {
      "cell_type": "code",
      "metadata": {
        "colab": {
          "base_uri": "https://localhost:8080/",
          "height": 0
        },
        "id": "qdIG5L0bdtbQ",
        "outputId": "0ea4f1e5-7d17-46f2-c9f6-872dbd4f8b5c"
      },
      "source": [
        "x = np.random.random((30))\n",
        "print(x)\n",
        "print('Mean value of the random vector is: ',x.mean())"
      ],
      "execution_count": 15,
      "outputs": [
        {
          "output_type": "stream",
          "text": [
            "[0.05944052 0.25465236 0.17602737 0.11398664 0.80684947 0.75111958\n",
            " 0.69804012 0.59813283 0.08594211 0.71412021 0.71621287 0.49437647\n",
            " 0.5435172  0.15991402 0.57813462 0.64411666 0.87115551 0.12704779\n",
            " 0.32803399 0.65702503 0.54137206 0.33703571 0.30298753 0.11029656\n",
            " 0.08714185 0.6853353  0.74130199 0.77172158 0.76744972 0.27441859]\n",
            "Mean value of the random vector is:  0.466563542374451\n"
          ],
          "name": "stdout"
        }
      ]
    },
    {
      "cell_type": "markdown",
      "metadata": {
        "id": "FEy_iacndxeS"
      },
      "source": [
        "Q14. Create a 2d array with 1 on the border and 0 inside"
      ]
    },
    {
      "cell_type": "code",
      "metadata": {
        "colab": {
          "base_uri": "https://localhost:8080/",
          "height": 0
        },
        "id": "FGF6omjPd5Yr",
        "outputId": "e5b31847-241b-4fa6-e558-e2de1ebef69b"
      },
      "source": [
        "x = np.ones((7,7))\n",
        "print('Original array: ')\n",
        "print(x)\n",
        "x[1:-1,1:-1]=0\n",
        "print('2d array with 1 on the border and 0 inside: ')\n",
        "print(x)"
      ],
      "execution_count": 16,
      "outputs": [
        {
          "output_type": "stream",
          "text": [
            "Original array: \n",
            "[[1. 1. 1. 1. 1. 1. 1.]\n",
            " [1. 1. 1. 1. 1. 1. 1.]\n",
            " [1. 1. 1. 1. 1. 1. 1.]\n",
            " [1. 1. 1. 1. 1. 1. 1.]\n",
            " [1. 1. 1. 1. 1. 1. 1.]\n",
            " [1. 1. 1. 1. 1. 1. 1.]\n",
            " [1. 1. 1. 1. 1. 1. 1.]]\n",
            "2d array with 1 on the border and 0 inside: \n",
            "[[1. 1. 1. 1. 1. 1. 1.]\n",
            " [1. 0. 0. 0. 0. 0. 1.]\n",
            " [1. 0. 0. 0. 0. 0. 1.]\n",
            " [1. 0. 0. 0. 0. 0. 1.]\n",
            " [1. 0. 0. 0. 0. 0. 1.]\n",
            " [1. 0. 0. 0. 0. 0. 1.]\n",
            " [1. 1. 1. 1. 1. 1. 1.]]\n"
          ],
          "name": "stdout"
        }
      ]
    },
    {
      "cell_type": "markdown",
      "metadata": {
        "id": "mGJYT1Pod_F9"
      },
      "source": [
        "\n",
        "Q15. How to add a border (filled with 0's) around an existing array?"
      ]
    },
    {
      "cell_type": "code",
      "metadata": {
        "colab": {
          "base_uri": "https://localhost:8080/",
          "height": 0
        },
        "id": "OTyNQ8SreBkZ",
        "outputId": "75f43cdb-d8e2-4cb8-fb42-8692131da7c3"
      },
      "source": [
        "x = np.ones((3,3))\n",
        "print(\"Original array:\")\n",
        "print(x)\n",
        "print(\"0 on the border and 1 inside in the array\")\n",
        "x = np.pad(x, pad_width=1, mode='constant', constant_values=0)\n",
        "print(x)"
      ],
      "execution_count": 17,
      "outputs": [
        {
          "output_type": "stream",
          "text": [
            "Original array:\n",
            "[[1. 1. 1.]\n",
            " [1. 1. 1.]\n",
            " [1. 1. 1.]]\n",
            "0 on the border and 1 inside in the array\n",
            "[[0. 0. 0. 0. 0.]\n",
            " [0. 1. 1. 1. 0.]\n",
            " [0. 1. 1. 1. 0.]\n",
            " [0. 1. 1. 1. 0.]\n",
            " [0. 0. 0. 0. 0.]]\n"
          ],
          "name": "stdout"
        }
      ]
    },
    {
      "cell_type": "markdown",
      "metadata": {
        "id": "wQ5pBmQfeEtO"
      },
      "source": [
        "\n",
        "Q16. How to Accessing/Changing specific elements, rows, columns, etc in Numpy array?\n",
        "\n",
        "Example - [[ 1 2 3 4 5 6 7] [ 8 9 10 11 12 13 14]]\n",
        "\n",
        "Get 13, get first row only, get 3rd column only, get [2, 4, 6], replace 13 by 20"
      ]
    },
    {
      "cell_type": "code",
      "metadata": {
        "colab": {
          "base_uri": "https://localhost:8080/",
          "height": 0
        },
        "id": "rr9nYynWeJAg",
        "outputId": "b74bf23f-fba9-4fed-c167-874854c5abdf"
      },
      "source": [
        "a = np.arange(1,15).reshape(2,7)\n",
        "print(a)\n",
        "\n",
        "#Get 13\n",
        "print(a[1,5])\n",
        "\n",
        "#Get first row only\n",
        "print(a[0])\n",
        "\n",
        "#Get 3rd column only\n",
        "print(a[:,2])\n",
        "\n",
        "#Get [2,4,6]\n",
        "print([a[0,1],a[0,3],a[0,5]])\n",
        "\n",
        "#Replace 13 by 20\n",
        "a[1,5]=20\n",
        "print(a)"
      ],
      "execution_count": 18,
      "outputs": [
        {
          "output_type": "stream",
          "text": [
            "[[ 1  2  3  4  5  6  7]\n",
            " [ 8  9 10 11 12 13 14]]\n",
            "13\n",
            "[1 2 3 4 5 6 7]\n",
            "[ 3 10]\n",
            "[2, 4, 6]\n",
            "[[ 1  2  3  4  5  6  7]\n",
            " [ 8  9 10 11 12 20 14]]\n"
          ],
          "name": "stdout"
        }
      ]
    },
    {
      "cell_type": "markdown",
      "metadata": {
        "id": "arrNx9JTeMyk"
      },
      "source": [
        "\n",
        "Q17. How to Convert a 1D array to a 2D array with 2 rows?"
      ]
    },
    {
      "cell_type": "code",
      "metadata": {
        "colab": {
          "base_uri": "https://localhost:8080/",
          "height": 0
        },
        "id": "RkGCxEWyeQKn",
        "outputId": "4b61059f-6fa3-4b36-a248-c491924dd963"
      },
      "source": [
        "a = np.arange(10)\n",
        "print('1D array:')\n",
        "print(a)\n",
        "a = a.reshape(2,5)\n",
        "print('2D array with 2 rows:')\n",
        "print(a)"
      ],
      "execution_count": 19,
      "outputs": [
        {
          "output_type": "stream",
          "text": [
            "1D array:\n",
            "[0 1 2 3 4 5 6 7 8 9]\n",
            "2D array with 2 rows:\n",
            "[[0 1 2 3 4]\n",
            " [5 6 7 8 9]]\n"
          ],
          "name": "stdout"
        }
      ]
    },
    {
      "cell_type": "markdown",
      "metadata": {
        "id": "TJVbKAsyeU55"
      },
      "source": [
        "\n",
        "Q18. Create the following pattern without hardcoding. Use only numpy functions and the below input array a.\n",
        "\n",
        "Input:\n",
        "\n",
        "a = np.array([1,2,3])\n",
        "\n",
        "Desired Output:\n",
        "\n",
        "array([1, 1, 1, 2, 2, 2, 3, 3, 3, 1, 2, 3, 1, 2, 3, 1, 2, 3])"
      ]
    },
    {
      "cell_type": "code",
      "metadata": {
        "colab": {
          "base_uri": "https://localhost:8080/",
          "height": 0
        },
        "id": "AQIBrWP6eYVr",
        "outputId": "bf13b199-8d74-4006-8cf6-a0db3726aa1b"
      },
      "source": [
        "a = np.array([1,2,3])\n",
        "np.r_[np.repeat(a, 3), np.tile(a, 3)]"
      ],
      "execution_count": 20,
      "outputs": [
        {
          "output_type": "execute_result",
          "data": {
            "text/plain": [
              "array([1, 1, 1, 2, 2, 2, 3, 3, 3, 1, 2, 3, 1, 2, 3, 1, 2, 3])"
            ]
          },
          "metadata": {
            "tags": []
          },
          "execution_count": 20
        }
      ]
    },
    {
      "cell_type": "markdown",
      "metadata": {
        "id": "VIZ-5wFiebpa"
      },
      "source": [
        "Q19. Write a program to show how Numpy taking less memory compared to Python List?"
      ]
    },
    {
      "cell_type": "code",
      "metadata": {
        "colab": {
          "base_uri": "https://localhost:8080/",
          "height": 0
        },
        "id": "yy0txeq_egRf",
        "outputId": "789354c8-46c4-454a-9085-57de9486ba95"
      },
      "source": [
        "import sys\n",
        "\n",
        "l = range(100)\n",
        "print('Size of each element of list in bytes: ',sys.getsizeof(l))\n",
        "print('Size of the whole list in bytes: ',sys.getsizeof(l)*len(l))\n",
        "\n",
        "a = np.arange(100)\n",
        "print('Size of each element in the Numpy array in bytes: ',a.itemsize)\n",
        "print('Size of the whole Numpy array in bites: ',a.itemsize*a.size)"
      ],
      "execution_count": 21,
      "outputs": [
        {
          "output_type": "stream",
          "text": [
            "Size of each element of list in bytes:  48\n",
            "Size of the whole list in bytes:  4800\n",
            "Size of each element in the Numpy array in bytes:  8\n",
            "Size of the whole Numpy array in bites:  800\n"
          ],
          "name": "stdout"
        }
      ]
    },
    {
      "cell_type": "markdown",
      "metadata": {
        "id": "IyCY_V0welM5"
      },
      "source": [
        "\n",
        "Q20. Write a program to show how Numpy taking less time compared to Python List?"
      ]
    },
    {
      "cell_type": "code",
      "metadata": {
        "colab": {
          "base_uri": "https://localhost:8080/",
          "height": 0
        },
        "id": "n2vSj3ggeqFa",
        "outputId": "c285ce99-16a0-4551-b49a-b0689c3ebe5a"
      },
      "source": [
        "import sys\n",
        "import time\n",
        "\n",
        "size = 1000000\n",
        "l1 = range(size)\n",
        "l2 = range(size)\n",
        "\n",
        "n1 = np.arange(size)\n",
        "n2 = np.arange(size)\n",
        "\n",
        "#list\n",
        "start = time.time()\n",
        "result = [(x+y) for x,y in zip(l1,l2)]\n",
        "print('Time taken by lists:')\n",
        "print((time.time()-start)*1000)\n",
        "\n",
        "#numpy array\n",
        "start = time.time()\n",
        "result1 = n1+n2\n",
        "print('Time taken by numpy arrays')\n",
        "print((time.time()-start)*1000)"
      ],
      "execution_count": 22,
      "outputs": [
        {
          "output_type": "stream",
          "text": [
            "Time taken by lists:\n",
            "175.45008659362793\n",
            "Time taken by numpy arrays\n",
            "3.710508346557617\n"
          ],
          "name": "stdout"
        }
      ]
    }
  ]
}