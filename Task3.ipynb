{
  "nbformat": 4,
  "nbformat_minor": 0,
  "metadata": {
    "colab": {
      "name": "Task3.ipynb",
      "provenance": [],
      "authorship_tag": "ABX9TyNgwHb2qVheXwm11z64Zfd3",
      "include_colab_link": true
    },
    "kernelspec": {
      "name": "python3",
      "display_name": "Python 3"
    },
    "language_info": {
      "name": "python"
    }
  },
  "cells": [
    {
      "cell_type": "markdown",
      "metadata": {
        "id": "view-in-github",
        "colab_type": "text"
      },
      "source": [
        "<a href=\"https://colab.research.google.com/github/sweta8144/Internship-Goeduhub/blob/main/Task3.ipynb\" target=\"_parent\"><img src=\"https://colab.research.google.com/assets/colab-badge.svg\" alt=\"Open In Colab\"/></a>"
      ]
    },
    {
      "cell_type": "markdown",
      "metadata": {
        "id": "7TbhDYbDXA9Y"
      },
      "source": [
        "**Task 3**     \n",
        "**Name -  SWETA LENKA**\n",
        "\n",
        "**Reg no. - GO_STP_11510**\n",
        "\n",
        "Questions on dictionary:-\n",
        "\n",
        "**Q1. Write a Python Program to sort (ascending and descending) a dictionary by value.**"
      ]
    },
    {
      "cell_type": "code",
      "metadata": {
        "colab": {
          "base_uri": "https://localhost:8080/"
        },
        "id": "2nPgioaaXdaG",
        "outputId": "8fdde8bc-f265-41e3-a89d-c13037fa7ae4"
      },
      "source": [
        "import operator\n",
        "\n",
        "x = {1:2,3:4,4:3,2:1,0:0}\n",
        "print('Original dictionary: ',x)\n",
        "\n",
        "l=sorted(x.items(), key=operator.itemgetter(1))\n",
        "print('Ascending order of dictionary is: ',l)\n",
        "\n",
        "l=sorted(x.items(), key=operator.itemgetter(1), reverse=True)\n",
        "print('Descending order of dictionary is: ',l)"
      ],
      "execution_count": 1,
      "outputs": [
        {
          "output_type": "stream",
          "text": [
            "Original dictionary:  {1: 2, 3: 4, 4: 3, 2: 1, 0: 0}\n",
            "Ascending order of dictionary is:  [(0, 0), (2, 1), (1, 2), (4, 3), (3, 4)]\n",
            "Descending order of dictionary is:  [(3, 4), (4, 3), (1, 2), (2, 1), (0, 0)]\n"
          ],
          "name": "stdout"
        }
      ]
    },
    {
      "cell_type": "markdown",
      "metadata": {
        "id": "1PJFp3LQXsin"
      },
      "source": [
        "\n",
        "**Q.2 Write a Python Program to add a key to a dictionary.**\n",
        "\n",
        "Sample Dictionary : {0: 10, 1: 20}\n",
        "\n",
        "Expected Result : {0: 10, 1: 20, 2: 30}"
      ]
    },
    {
      "cell_type": "code",
      "metadata": {
        "colab": {
          "base_uri": "https://localhost:8080/"
        },
        "id": "nkDWuKdHX2-B",
        "outputId": "0cedfb78-e10a-49ea-ee8e-9762a48cec70"
      },
      "source": [
        "\n",
        "d = {0:10, 1:20}\n",
        "d[2] = 30\n",
        "print(d)"
      ],
      "execution_count": 2,
      "outputs": [
        {
          "output_type": "stream",
          "text": [
            "{0: 10, 1: 20, 2: 30}\n"
          ],
          "name": "stdout"
        }
      ]
    },
    {
      "cell_type": "markdown",
      "metadata": {
        "id": "VWuiW-y9X7kA"
      },
      "source": [
        "\n",
        "**Q.3 Write a program asks for City name and Temperature and builds a dictionary using that Later on you can input City name and it will tell you the Temperature of that City.**"
      ]
    },
    {
      "cell_type": "code",
      "metadata": {
        "colab": {
          "base_uri": "https://localhost:8080/"
        },
        "id": "j12zhQfLX-x_",
        "outputId": "76cf6c30-e785-437d-d431-17e8b7657853"
      },
      "source": [
        "d={}\n",
        "d['New Delhi'] = 38\n",
        "d['Mumbai'] = 35\n",
        "d['Chennai'] = 40\n",
        "d['Kolkata'] = 36\n",
        "d['Bangalore'] = 32\n",
        "d['Ahmedabad'] = 42\n",
        "d['Srinagar'] = 22\n",
        "print(d)\n",
        "\n",
        "city = input('Enter a city name: ')\n",
        "if city in d:\n",
        "  print('The temperature in',city,'is',d[city])\n",
        "else:\n",
        "  print('The city is not in the dictionary')"
      ],
      "execution_count": 3,
      "outputs": [
        {
          "output_type": "stream",
          "text": [
            "{'New Delhi': 38, 'Mumbai': 35, 'Chennai': 40, 'Kolkata': 36, 'Bangalore': 32, 'Ahmedabad': 42, 'Srinagar': 22}\n",
            "Enter a city name: Chennai\n",
            "The temperature in Chennai is 40\n"
          ],
          "name": "stdout"
        }
      ]
    },
    {
      "cell_type": "markdown",
      "metadata": {
        "id": "DNYNAMRXYKst"
      },
      "source": [
        "\n",
        "**Q.4 Write a Python program to convert list to list of dictionaries.**\n",
        "\n",
        "Sample lists: [\"Black\", \"Red\", \"Maroon\", \"Yellow\"], [\"#000000\", \"#FF0000\", \"#800000\", \"#FFFF00\"]\n",
        "\n",
        "Expected Output: [{'color_name': 'Black', 'color_code': '#000000'}, {'color_name': 'Red', 'color_code': '#FF0000'}, {'color_name': 'Maroon', 'color_code': '#800000'}, {'color_name': 'Yellow', 'color_code': '#FFFF00'}]"
      ]
    },
    {
      "cell_type": "code",
      "metadata": {
        "colab": {
          "base_uri": "https://localhost:8080/"
        },
        "id": "wxdQSpYoYS_c",
        "outputId": "09cf2b90-59ed-4231-9664-9fd22e08417c"
      },
      "source": [
        "color_name = [\"Black\",\"Red\",\"Maroon\",\"Yellow\"]\n",
        "color_code = [\"#000000\", \"#FF0000\", \"#800000\", \"#FFFF00\"]\n",
        "\n",
        "print([{'color_name':n,'color_code':c} for n,c in zip(color_name,color_code)])"
      ],
      "execution_count": 4,
      "outputs": [
        {
          "output_type": "stream",
          "text": [
            "[{'color_name': 'Black', 'color_code': '#000000'}, {'color_name': 'Red', 'color_code': '#FF0000'}, {'color_name': 'Maroon', 'color_code': '#800000'}, {'color_name': 'Yellow', 'color_code': '#FFFF00'}]\n"
          ],
          "name": "stdout"
        }
      ]
    },
    {
      "cell_type": "markdown",
      "metadata": {
        "id": "2UcLPLc1YYC5"
      },
      "source": [
        "Q. 5 We have following information on Employees and their Salary (Salary is in lakhs),\n",
        "\n",
        "Employee Salary John 14 Smith 13 Alice 32 Daneil 21\n",
        "\n",
        "Using above create a dictionary of Employees and their Salary Write a program that asks user for three type of inputs,\n",
        "\n",
        "print: if user enter print then it should print all Employees with their Salary in this format, John ==>14 Smith ==>13 Alice ==>32 Daneil ==>21\n",
        "\n",
        "add: if user input adds then it should further ask for an Employee name to add. If Employee already exists in our dataset then it should print that it exists and do nothing. If it doesn't then it asks for Salary and add that new Employee/Salary in our dictionary and print it\n",
        "\n",
        "remove: when user inputs remove it should ask for an Employee to remove. If an Employee exists in our dictionary then remove it and print a new dictionary using format shown above in (a). Else print that Employee doesn't exist!\n",
        "\n",
        "query: on this again ask the user for which Employee he or she wants to query. When a user inputs that Employee it will print the Salary of that Employee."
      ]
    },
    {
      "cell_type": "code",
      "metadata": {
        "colab": {
          "base_uri": "https://localhost:8080/"
        },
        "id": "NGzpe5YlYaqx",
        "outputId": "fb1fc128-e8f5-4513-ac09-f422509f789b"
      },
      "source": [
        "d={}\n",
        "d['John'] = 14\n",
        "d['Smith'] = 13\n",
        "d['Alice'] = 32\n",
        "d['Daneil'] = 21\n",
        "print(d)\n",
        "dict.items(d)\n",
        "\n",
        "name = input('Enter an employee name: ')\n",
        "if name in d:\n",
        "  print('Already exists')\n",
        "else:\n",
        "  salary = input('Enter salary: ')\n",
        "d[name] = salary\n",
        "print(d)\n",
        "\n",
        "name = input('Enter an employee name: ')\n",
        "if name in d:\n",
        "  d.pop(name)\n",
        "  print(d)\n",
        "else:\n",
        "  print(\"Employee doesn't exist\")\n",
        "\n",
        "name = input('Enter an employee name: ')\n",
        "if name in d:\n",
        "  print('The salary of ',name,'is: ',d[name])\n",
        "else:\n",
        "  print('Not found')"
      ],
      "execution_count": 8,
      "outputs": [
        {
          "output_type": "stream",
          "text": [
            "{'John': 14, 'Smith': 13, 'Alice': 32, 'Daneil': 21}\n",
            "Enter an employee name: Sweta\n",
            "Enter salary: 40\n",
            "{'John': 14, 'Smith': 13, 'Alice': 32, 'Daneil': 21, 'Sweta': '40'}\n",
            "Enter an employee name: John\n",
            "{'Smith': 13, 'Alice': 32, 'Daneil': 21, 'Sweta': '40'}\n",
            "Enter an employee name: Alice\n",
            "The salary of  Alice is:  32\n"
          ],
          "name": "stdout"
        }
      ]
    },
    {
      "cell_type": "markdown",
      "metadata": {
        "id": "je1qZ0o2ZPxD"
      },
      "source": [
        "Questions on Sets-\n",
        "\n",
        "Q.1 What is the difference between a set and a frozenset? Create any set and try to use frozenset(setname).\n",
        "\n",
        "Frozen set is just an immutable version of a Python set object. While elements of a set can be modified at any time, elements of the frozen set remain the same after creation.\n",
        "\n",
        "Due to this, frozen sets can be used as keys in Dictionary or as elements of another set. But like sets, it is not ordered"
      ]
    },
    {
      "cell_type": "code",
      "metadata": {
        "colab": {
          "base_uri": "https://localhost:8080/"
        },
        "id": "xr1c-F8CZS9m",
        "outputId": "880feff1-698c-4ce4-c9f5-2b25a2817c0e"
      },
      "source": [
        "my_set = {'a','b','c','d'}\n",
        "print(my_set)\n",
        "my_set.add('e')\n",
        "print(my_set)\n",
        "\n",
        "fset = frozenset(my_set)\n",
        "print('The frozen set is: ',fset)"
      ],
      "execution_count": 9,
      "outputs": [
        {
          "output_type": "stream",
          "text": [
            "{'a', 'd', 'b', 'c'}\n",
            "{'e', 'a', 'd', 'c', 'b'}\n",
            "The frozen set is:  frozenset({'e', 'a', 'd', 'c', 'b'})\n"
          ],
          "name": "stdout"
        }
      ]
    },
    {
      "cell_type": "markdown",
      "metadata": {
        "id": "RzeIp5M6ZXeG"
      },
      "source": [
        "\n",
        "Q.2 Find the elements in a given set that are not in another set\n",
        "\n",
        "set1 = {10,20,30,40,50}\n",
        "\n",
        "set2 = {40,50,60,70,80}\n",
        "\n",
        "Difference between set1 and set2 is {10,20,30}"
      ]
    },
    {
      "cell_type": "code",
      "metadata": {
        "colab": {
          "base_uri": "https://localhost:8080/"
        },
        "id": "TamZlIOdZdV9",
        "outputId": "d1c57ba3-0043-41e4-d1b7-a7d3c1d07c01"
      },
      "source": [
        "set1 = {10,20,30,40,50}\n",
        "set2 = {40,50,60,70,80}\n",
        "\n",
        "set3 = set1.symmetric_difference(set2)\n",
        "print('Elements in a given set that are not in another set: ',set3)\n",
        "\n",
        "set4 = set1 - set2\n",
        "print('Difference between set1 and set2 is ',set4)"
      ],
      "execution_count": 10,
      "outputs": [
        {
          "output_type": "stream",
          "text": [
            "Elements in a given set that are not in another set:  {80, 20, 70, 10, 60, 30}\n",
            "Difference between set1 and set2 is  {10, 20, 30}\n"
          ],
          "name": "stdout"
        }
      ]
    }
  ]
}