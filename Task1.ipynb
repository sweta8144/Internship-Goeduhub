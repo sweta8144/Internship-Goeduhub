{
  "nbformat": 4,
  "nbformat_minor": 0,
  "metadata": {
    "colab": {
      "name": "Task1.ipynb",
      "provenance": [],
      "collapsed_sections": [],
      "authorship_tag": "ABX9TyM6guNCxxaBoKYk1Jus+SCc",
      "include_colab_link": true
    },
    "kernelspec": {
      "name": "python3",
      "display_name": "Python 3"
    },
    "language_info": {
      "name": "python"
    }
  },
  "cells": [
    {
      "cell_type": "markdown",
      "metadata": {
        "id": "view-in-github",
        "colab_type": "text"
      },
      "source": [
        "<a href=\"https://colab.research.google.com/github/sweta8144/Internship-Goeduhub/blob/main/Task1.ipynb\" target=\"_parent\"><img src=\"https://colab.research.google.com/assets/colab-badge.svg\" alt=\"Open In Colab\"/></a>"
      ]
    },
    {
      "cell_type": "markdown",
      "metadata": {
        "id": "a3fO6-dUtz_T"
      },
      "source": [
        "**Task 1**\n",
        "\n",
        "**Reg No : GO_STP_11510**\n",
        "\n",
        "**Name- Sweta Lenka**\n",
        "\n",
        "**Date : 21/05/2021**                \n",
        "\n",
        "\n",
        "1.We are having 3 list like this\n",
        "Colors = [“Yellow”,”Green”,”White”,”Black”]\n",
        "\n",
        "Fruits=[“Apple”,”Papaya”,”Mango”,”Orange”]\n",
        "\n",
        "Animals=[“Tiger”,”Lion”,”Deer”,”Zebra”]\n",
        "\n",
        "**i. Write a program that asks user to enter a Color/Fruit/Animal name and it should tell which category belongs to , like its is a fruit or color or Animal**"
      ]
    },
    {
      "cell_type": "code",
      "metadata": {
        "colab": {
          "base_uri": "https://localhost:8080/"
        },
        "id": "aPRes8lSZ3ya",
        "outputId": "9150226e-2003-4f68-9240-62d8926fb4d8"
      },
      "source": [
        "Colors = ['Yellow','Green','White','Black']\n",
        "Fruits=['Apple','Papaya','Mango','Orange']\n",
        "Animals=['Tiger','Lion','Deer','Zebra']\n",
        "name=input('enter String: ')\n",
        "if name in Colors:\n",
        " category='Colors'\n",
        "elif name in Fruits:\n",
        " category='Fruits'\n",
        "elif name in Animals:\n",
        " category='Animals'\n",
        "else:\n",
        " category='null'\n",
        "print('category:',category)\n",
        "\n"
      ],
      "execution_count": 7,
      "outputs": [
        {
          "output_type": "stream",
          "text": [
            "enter String: Yellow\n",
            "category: Colors\n"
          ],
          "name": "stdout"
        }
      ]
    },
    {
      "cell_type": "markdown",
      "metadata": {
        "id": "-UrMKzKTegTU"
      },
      "source": [
        "**ii. Write a program that asks user to enter two cities and it tells you if they both are in same country or not. For example if I enter yellow and Black, it will print \"Both are colors\" but if I enter yellow and Tiger it should print \"They don't belong to same category\"**"
      ]
    },
    {
      "cell_type": "code",
      "metadata": {
        "colab": {
          "base_uri": "https://localhost:8080/"
        },
        "id": "0FQJCZL6fjn0",
        "outputId": "461c1f27-4ebb-46db-d86b-bfdccedf42a4"
      },
      "source": [
        "Colors = ['Yellow','Green','White','Black']\n",
        "Fruits=['Apple','Papaya','Mango','Orange']\n",
        "Animals=['Tiger','Lion','Deer','Zebra']\n",
        "name_1=input('enter 1st name : ')\n",
        "name_2=input('enter 2nd name : ')\n",
        "if name_1 in Colors and name_2 in Colors:\n",
        " category='both are Colors'\n",
        "elif name_1 in Fruits and name_2 in Fruits:\n",
        " category='both are Fruits'\n",
        "elif name_1 in Animals and name_2 in Animals:\n",
        " category ='both are Animals'\n",
        "else:\n",
        " category='They donot belong to same category'\n",
        "print('category:',category)\n"
      ],
      "execution_count": 2,
      "outputs": [
        {
          "output_type": "stream",
          "text": [
            "enter 1st name : Deer\n",
            "enter 2nd name : White\n",
            "category: They donot belong to same category\n"
          ],
          "name": "stdout"
        }
      ]
    },
    {
      "cell_type": "markdown",
      "metadata": {
        "id": "KpRPfZ670yAs"
      },
      "source": [
        "**2. Write a python program that can tell you if your grade score good or not . Good Score range is 40 to 60.**\n",
        "\n",
        "i. Ask user to enter his score.\n",
        "\n",
        "ii. If it is below 40 to 60 range then print that score is low\n",
        "\n",
        "iii. If it is above 60 then print that it is good otherwise print that it is normal"
      ]
    },
    {
      "cell_type": "code",
      "metadata": {
        "colab": {
          "base_uri": "https://localhost:8080/"
        },
        "id": "ZdAW2D4O0_ug",
        "outputId": "d976d827-a0d5-469d-a89a-1d4b420bfecc"
      },
      "source": [
        "score=int(input('enter your score : '))\n",
        "if score>=60:\n",
        " print('Good')\n",
        "elif score<60 and score>40:\n",
        "  print('Average')\n",
        "elif score<=40:\n",
        " print('Score is low')"
      ],
      "execution_count": 2,
      "outputs": [
        {
          "output_type": "stream",
          "text": [
            "enter your score : 68\n",
            "Good\n"
          ],
          "name": "stdout"
        }
      ]
    },
    {
      "cell_type": "markdown",
      "metadata": {
        "id": "dsgGG5s-iYlk"
      },
      "source": [
        "3. After appearing in exam 10 times you got this result,\n",
        "\n",
        "  result = [\"Pass\",\"Fail\",\"Fail\",\"Pass\",\"Fail\",\"Pass\",\"Pass\",\"Fail\",\"Fail\",\"Fail\"]\n",
        "\n",
        "**Using for loop figure out how many times you got Pass**"
      ]
    },
    {
      "cell_type": "code",
      "metadata": {
        "colab": {
          "base_uri": "https://localhost:8080/"
        },
        "id": "kqY3AMUOikEj",
        "outputId": "83dc25d7-0fd3-42d9-f318-045bc866788c"
      },
      "source": [
        "result = [\"Pass\",\"Fail\",\"Fail\",\"Pass\",\"Fail\",\"Pass\",\"Pass\",\"Fail\",\"Fail\",\"Fail\"]\n",
        "counter = 0\n",
        "for s in result:\n",
        " if s==\"Pass\":\n",
        "  counter=counter+1\n",
        "print(counter)"
      ],
      "execution_count": 3,
      "outputs": [
        {
          "output_type": "stream",
          "text": [
            "4\n"
          ],
          "name": "stdout"
        }
      ]
    },
    {
      "cell_type": "markdown",
      "metadata": {
        "id": "WzpOlem7i_PT"
      },
      "source": [
        "**4.Write a program that prints following shape**"
      ]
    },
    {
      "cell_type": "code",
      "metadata": {
        "colab": {
          "base_uri": "https://localhost:8080/"
        },
        "id": "J8N2PnjwjHdK",
        "outputId": "92680d5d-7c14-4e4e-ac11-0912f5537299"
      },
      "source": [
        "for i in range(5):\n",
        "  for j in range(i):\n",
        "    print(\"*\",end=\"\")\n",
        "  print()\n",
        "for i in range(5,0,-1):\n",
        "  for j in range(i):\n",
        "    print(\"*\",end=\"\")\n",
        "  print()"
      ],
      "execution_count": 5,
      "outputs": [
        {
          "output_type": "stream",
          "text": [
            "\n",
            "*\n",
            "**\n",
            "***\n",
            "****\n",
            "*****\n",
            "****\n",
            "***\n",
            "**\n",
            "*\n"
          ],
          "name": "stdout"
        }
      ]
    },
    {
      "cell_type": "markdown",
      "metadata": {
        "id": "LkjuJJOBk-xf"
      },
      "source": [
        "**5. Lets say you are running a 50 km race. Write a program that,**\n",
        "\n",
        "1.Upon completing each 10 km asks you \"are you tired?\"\n",
        "\n",
        "2.If you reply \"yes\" then it should break and print \"you didn't finish the race\"\n",
        "\n",
        "3.If you reply \"no\" then it should continue and ask \"are you tired\" on every km\n",
        "\n",
        "4.If you finish all 50 km then it should print congratulations message"
      ]
    },
    {
      "cell_type": "code",
      "metadata": {
        "colab": {
          "base_uri": "https://localhost:8080/"
        },
        "id": "sGznVMRdlKcM",
        "outputId": "193b878e-c165-44cc-c85c-20c92f343f42"
      },
      "source": [
        "for distance in range(1,51):\n",
        "  if distance < 50 and distance % 10 == 0:\n",
        "    print(\"are you tired?\")\n",
        "    reply = input(\"Enter Yes or No : \")\n",
        "    if reply.lower() == \"yes\":\n",
        "      print(\"you didn't finish the race\")\n",
        "      break\n",
        "    elif reply.lower() == \"no\":\n",
        "      continue\n",
        "    else:\n",
        "      print(\"Invalid Input\")\n",
        "  if distance == 50:\n",
        "    print('congratulations !')"
      ],
      "execution_count": 8,
      "outputs": [
        {
          "output_type": "stream",
          "text": [
            "are you tired?\n",
            "Enter Yes or No : no\n",
            "are you tired?\n",
            "Enter Yes or No : no\n",
            "are you tired?\n",
            "Enter Yes or No : no\n",
            "are you tired?\n",
            "Enter Yes or No : no\n",
            "congratulations !\n"
          ],
          "name": "stdout"
        }
      ]
    },
    {
      "cell_type": "markdown",
      "metadata": {
        "id": "YbTBNM6Xoe45"
      },
      "source": [
        "**6. Write a Python program to find those numbers which are divisible by 7 and multiple of 5, between 1500 and 2700 (both included).**"
      ]
    },
    {
      "cell_type": "code",
      "metadata": {
        "colab": {
          "base_uri": "https://localhost:8080/"
        },
        "id": "t_64sbSJr5L0",
        "outputId": "1d608017-bb0b-4c18-bdd5-49c5872e9b51"
      },
      "source": [
        "for number in range(1500,2701):\n",
        "  if number % 7 == 0 and number % 5 == 0:\n",
        "    print(number,end=\" \")"
      ],
      "execution_count": 9,
      "outputs": [
        {
          "output_type": "stream",
          "text": [
            "1505 1540 1575 1610 1645 1680 1715 1750 1785 1820 1855 1890 1925 1960 1995 2030 2065 2100 2135 2170 2205 2240 2275 2310 2345 2380 2415 2450 2485 2520 2555 2590 2625 2660 2695 "
          ],
          "name": "stdout"
        }
      ]
    },
    {
      "cell_type": "markdown",
      "metadata": {
        "id": "dN-GS0U4r6dd"
      },
      "source": [
        "**7. Print square of all numbers between 10 to 20 except even numbers**"
      ]
    },
    {
      "cell_type": "code",
      "metadata": {
        "colab": {
          "base_uri": "https://localhost:8080/"
        },
        "id": "Y12PFf7hsChr",
        "outputId": "76316642-e4f6-4cc5-9475-1bcd66493a91"
      },
      "source": [
        "for number in range(10,21):\n",
        "  if number % 2 == 1:\n",
        "    print(number ** 2, end=\" \")"
      ],
      "execution_count": 10,
      "outputs": [
        {
          "output_type": "stream",
          "text": [
            "121 169 225 289 361 "
          ],
          "name": "stdout"
        }
      ]
    },
    {
      "cell_type": "markdown",
      "metadata": {
        "id": "osxgjiIbsKqw"
      },
      "source": [
        "**8.Your Marks for five Test(test1 to test5) looks like this,**\n",
        "\n",
        "**marks_list = [65, 75, 2100, 95, 83]**\n",
        "\n",
        "**Write a program that asks you to enter marks and program should tell you in which test that expense occurred. If expense is not found then it should print that as well.**"
      ]
    },
    {
      "cell_type": "code",
      "metadata": {
        "colab": {
          "base_uri": "https://localhost:8080/"
        },
        "id": "jlytxBuksXCm",
        "outputId": "1d784815-a4fe-4e93-dc3d-79277f317152"
      },
      "source": [
        "marks_list = [65, 75, 2100, 95, 83]\n",
        "n=int(input(\"Enter the Mark : \"))\n",
        "if n in marks_list:\n",
        "  p = marks_list.index(n)\n",
        "  print('Test found in index :',p)\n",
        "else:\n",
        "  print(\"Test not found\")"
      ],
      "execution_count": 12,
      "outputs": [
        {
          "output_type": "stream",
          "text": [
            "Enter the Mark : 95\n",
            "Test found in index : 3\n"
          ],
          "name": "stdout"
        }
      ]
    }
  ]
}